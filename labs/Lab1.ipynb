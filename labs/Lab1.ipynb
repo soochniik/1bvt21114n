{
  "cells": [
    {
      "cell_type": "markdown",
      "id": "fifteen-sailing",
      "metadata": {
        "id": "fifteen-sailing"
      },
      "source": [
        "# Лабораторная работа №1\n",
        "## Выполнила студентка группы БВТ2103 Пьянова Анна Олеговна\n"
      ]
    },
    {
      "cell_type": "markdown",
      "id": "particular-syndicate",
      "metadata": {
        "id": "particular-syndicate"
      },
      "source": [
        "### Оглавление\n",
        "1. [Задание 1](#Задание-№1)\n",
        "2. [Задание 2](#Задание-№2)\n",
        "3. [Задание 3](#Задание-№3)\n",
        "4. [Вывод](#Вывод)"
      ]
    },
    {
      "cell_type": "markdown",
      "id": "arctic-stocks",
      "metadata": {
        "id": "arctic-stocks"
      },
      "source": [
        "### Задание №1\n",
        "<i> Вызвать функцию print() и передать туда строку Hello, World! </i>"
      ]
    },
    {
      "cell_type": "code",
      "execution_count": null,
      "id": "caring-truck",
      "metadata": {
        "scrolled": true,
        "id": "caring-truck",
        "colab": {
          "base_uri": "https://localhost:8080/"
        },
        "outputId": "5992f7a8-1696-499a-d35b-d97cefa5d8e2"
      },
      "outputs": [
        {
          "output_type": "stream",
          "name": "stdout",
          "text": [
            "Hello, World!\n"
          ]
        }
      ],
      "source": [
        "print(\"Hello, World!\")"
      ]
    },
    {
      "cell_type": "markdown",
      "id": "maritime-conversation",
      "metadata": {
        "id": "maritime-conversation"
      },
      "source": [
        "### Задание №2\n",
        "Написать генератор случайных матриц(многомерных), который принимает\n",
        "опциональные параметры <b>m</b>, <b>n</b>, <b>min_limit</b>, <b>max_limit</b>, где <b>m</b> и <b>n</b> указывают размер\n",
        "матрицы, а <b>min_lim</b> и <b>max_lim</b> - минимальное и максимальное значение для\n",
        "генерируемого числа."
      ]
    },
    {
      "cell_type": "code",
      "execution_count": null,
      "id": "built-contact",
      "metadata": {
        "id": "built-contact"
      },
      "outputs": [],
      "source": [
        "import random\n",
        "import time"
      ]
    },
    {
      "cell_type": "code",
      "execution_count": null,
      "id": "alert-charm",
      "metadata": {
        "id": "alert-charm",
        "outputId": "6f83356b-6897-4f88-efa4-61d0f3836d98",
        "colab": {
          "base_uri": "https://localhost:8080/"
        }
      },
      "outputs": [
        {
          "output_type": "stream",
          "name": "stdout",
          "text": [
            "5 6 \n",
            "27 72 1 17 75 64 \n",
            "18 78 69 63 67 29 \n",
            "88 43 99 59 45 38 \n",
            "26 98 98 23 44 77 \n",
            "86 24 75 85 65 43 \n"
          ]
        }
      ],
      "source": [
        "#ввод параметров через пробел: m n min_limit max_limit\n",
        "#параматры m, n - обязательные\n",
        "s = input()\n",
        "#cсписок \"слов\": ('m', 'n', 'min_limit', 'max_limit')\n",
        "s_list = s.split()\n",
        "m = int(s_list[0])\n",
        "n = int(s_list[1])\n",
        "if len(s_list) == 2:\n",
        "    min_limit = 0\n",
        "    max_limit = 100\n",
        "if len(s_list) == 3:\n",
        "    min_limit = int(s_list[2])\n",
        "    max_limit = 100\n",
        "if len(s_list) == 4:    \n",
        "    min_limit = int(s_list[2])\n",
        "    max_limit = int(s_list[3])\n",
        "\n",
        "Matrix = [[random.randint(min_limit, max_limit) for j in range(n)] for i in range(m) ]\n",
        "\n",
        "for i in range(m):\n",
        "    for j in range(n):\n",
        "        print(Matrix[i][j], end = ' ')\n",
        "    print()\n"
      ]
    },
    {
      "cell_type": "markdown",
      "id": "catholic-roots",
      "metadata": {
        "id": "catholic-roots"
      },
      "source": [
        "### Задание №3\n",
        "Реализовать методы сортировки строк числовой матрицы в соответствии с\n",
        "заданием. Оценить время работы каждого алгоритма сортировки и сравнить его со\n",
        "временем стандартной функции сортировки. Испытания проводить на сгенерированных\n",
        "матрицах."
      ]
    },
    {
      "cell_type": "code",
      "execution_count": null,
      "id": "opposed-creature",
      "metadata": {
        "id": "opposed-creature"
      },
      "outputs": [],
      "source": [
        "import copy\n",
        "import time\n",
        "import random"
      ]
    },
    {
      "cell_type": "code",
      "execution_count": null,
      "id": "cleared-anniversary",
      "metadata": {
        "id": "cleared-anniversary",
        "outputId": "588826a2-5bee-4645-c1b1-7f59c64d6027",
        "colab": {
          "base_uri": "https://localhost:8080/"
        }
      },
      "outputs": [
        {
          "output_type": "stream",
          "name": "stdout",
          "text": [
            "12\n",
            "Сгенерированная матрица:\n",
            "109 141 134 76 91 112 112 113 98 109 109 117 132 66 113 132 145 84 \n",
            "118 135 62 69 84 95 115 114 78 57 85 61 86 107 124 92 137 67 \n",
            "76 140 121 71 111 74 81 126 93 91 83 90 57 113 111 117 78 126 \n",
            "117 127 57 119 92 118 117 57 72 69 97 67 107 74 134 75 91 54 \n",
            "72 98 83 77 122 72 123 110 73 104 66 126 92 72 102 141 60 100 \n",
            "105 109 70 64 81 80 55 74 66 98 67 142 64 88 73 66 136 109 \n",
            "108 81 68 128 94 63 55 115 111 92 101 82 106 88 104 91 82 114 \n",
            "88 56 86 138 114 86 123 142 95 58 65 125 134 74 97 93 84 69 \n",
            "108 113 125 62 141 74 122 69 128 92 78 109 68 74 92 120 72 62 \n",
            "141 63 87 97 121 84 62 65 135 81 118 121 101 114 138 65 118 108 \n",
            "125 130 85 59 114 79 89 142 91 63 126 76 130 143 143 134 70 123 \n",
            "140 111 125 77 63 103 97 84 56 54 56 128 110 65 63 131 113 60 \n",
            "Время работы сортировки выбором: --- 1 ms ---\n",
            "Время работы встроенной сортировки: --- 0 ms ---\n"
          ]
        }
      ],
      "source": [
        "#метод для генерации матрицы\n",
        "def generateArray(m=32, n=18, min_limit=54, max_limit=145):\n",
        "    Matrix = [[random.randint(min_limit, max_limit) for j in range(n)] for i in range(m)]\n",
        "    for i in range(m):\n",
        "        for j in range(n):\n",
        "            print(Matrix[i][j], end = ' ')\n",
        "        print()\n",
        "    return Matrix\n",
        "\n",
        "#метод для сортировки выбором\n",
        "def selectionSort(arr):\n",
        "#def selectionSort(arr,m,n):\n",
        "    a = arr.copy()\n",
        "    for k in range(len(a)):\n",
        "        for i in range(len(a[k]) - 1):\n",
        "            m = i\n",
        "            j = i + 1\n",
        "            while j < len(a[k]):\n",
        "                if a[k][j] < a[k][m]:\n",
        "                    m = j\n",
        "                j = j + 1\n",
        "            a[k][i], a[k][m] = a[k][m], a[k][i]\n",
        "    #вывод матрицы на экран\n",
        "    #for i in range(int(m)):\n",
        "    #    for j in range(int(n)):\n",
        "    #        print(a[i][j], end = ' ')\n",
        "    #    print()\n",
        "    return a\n",
        "\n",
        "s = input()\n",
        "s_list = s.split()\n",
        "print(\"Сгенерированная матрица:\")\n",
        "if len(s_list) == 1:\n",
        "    arrayExample = generateArray(int(s_list[0]))\n",
        "if len(s_list) == 2:\n",
        "    arrayExample = generateArray(int(s_list[0]), int(s_list[1]))\n",
        "if len(s_list) == 3:\n",
        "    arrayExample = generateArray(int(s_list[0]), int(s_list[1]), int(s_list[2]))\n",
        "if len(s_list) == 4:    \n",
        "    arrayExample = generateArray(int(s_list[0]), int(s_list[1]), int(s_list[2]), int(s_list[3]))\n",
        "if len(s_list) == 0:\n",
        "    arrayExample = generateArray()\n",
        "\n",
        "start_time = time.time()\n",
        "#print(\"Матрица после сортировки выбором:\")\n",
        "selectionSort(arrayExample)\n",
        "#selectionSort(arrayExample,s_list[0],s_list[1])\n",
        "print(\"Время работы сортировки выбором: \" + \"--- {0} ms ---\".format(round((time.time() - start_time)*1000)))\n",
        "\n",
        "arr = arrayExample.copy()\n",
        "start_time = time.time()\n",
        "arr.sort()\n",
        "print(\"Время работы встроенной сортировки: \" + \"--- {0} ms ---\".format(round((time.time() - start_time)*1000)))\n"
      ]
    },
    {
      "cell_type": "code",
      "execution_count": null,
      "id": "roman-silly",
      "metadata": {
        "scrolled": true,
        "id": "roman-silly",
        "outputId": "6c17bd1e-ada7-47c4-cc56-e5b6e6553319",
        "colab": {
          "base_uri": "https://localhost:8080/"
        }
      },
      "outputs": [
        {
          "output_type": "stream",
          "name": "stdout",
          "text": [
            "11 15 -7 8\n",
            "Сгенерированная матрица:\n",
            "0 -6 -6 8 8 -1 3 2 -4 -3 3 4 -3 5 7 \n",
            "-5 -5 7 -1 -3 7 6 8 0 -2 -2 0 2 -7 4 \n",
            "-4 -3 -2 -4 2 -2 -3 4 -6 -1 7 5 -2 3 6 \n",
            "4 -2 -2 5 -6 -6 7 -7 6 3 -5 3 5 3 -3 \n",
            "-3 1 -5 2 -6 8 1 -5 4 3 3 7 -4 -1 0 \n",
            "-1 0 -7 -5 -2 5 0 1 -5 -4 7 3 0 5 6 \n",
            "4 -3 -1 -7 5 -5 -1 5 4 -7 -1 -4 -1 5 0 \n",
            "2 6 -1 -2 -3 3 1 3 6 5 8 -6 -3 0 -7 \n",
            "0 4 8 -2 3 -5 3 -4 -1 8 2 -7 -5 0 0 \n",
            "7 -4 -7 6 3 0 1 7 -3 2 -1 8 3 -3 7 \n",
            "-7 -2 3 1 8 3 -6 5 2 1 2 7 5 1 -4 \n",
            "Время работы сортировки вставкой: --- 0 ms ---\n",
            "Время работы встроенной сортировки: --- 0 ms ---\n"
          ]
        }
      ],
      "source": [
        "#метод для генерации матрицы\n",
        "def generateArray(m=32, n=18, min_limit=54, max_limit=145):\n",
        "    Matrix = [[random.randint(min_limit, max_limit) for j in range(n)] for i in range(m)]\n",
        "    for i in range(m):\n",
        "        for j in range(n):\n",
        "            print(Matrix[i][j], end = ' ')\n",
        "        print()\n",
        "    return Matrix\n",
        "\n",
        "#метод для сортировки вставкой\n",
        "def insertionSort(arr):\n",
        "    a = arr.copy()\n",
        "    for p in range(len(a)):\n",
        "        for i in range(1, len(a[p])):\n",
        "            k = a[p][i]\n",
        "            j = i-1\n",
        "            while j >= 0 and k < a[p][j]:\n",
        "                a[p][j+1] = a[p][j]\n",
        "                j -= 1\n",
        "            a[p][j+1] = k\n",
        "    return a\n",
        "\n",
        "s = input()\n",
        "s_list = s.split()\n",
        "print(\"Сгенерированная матрица:\")\n",
        "if len(s_list) == 1:\n",
        "    arrayExample = generateArray(int(s_list[0]))\n",
        "if len(s_list) == 2:\n",
        "    arrayExample = generateArray(int(s_list[0]), int(s_list[1]))\n",
        "if len(s_list) == 3:\n",
        "    arrayExample = generateArray(int(s_list[0]), int(s_list[1]), int(s_list[2]))\n",
        "if len(s_list) == 4:    \n",
        "    arrayExample = generateArray(int(s_list[0]), int(s_list[1]), int(s_list[2]), int(s_list[3]))\n",
        "if len(s_list) == 0:\n",
        "    arrayExample = generateArray()\n",
        "\n",
        "start_time = time.time()\n",
        "insertionSort(arrayExample)\n",
        "print(\"Время работы сортировки вставкой: \" + \"--- {0} ms ---\".format(round((time.time() - start_time)*1000)))\n",
        "\n",
        "arr = arrayExample.copy()\n",
        "start_time = time.time()\n",
        "arr.sort()\n",
        "print(\"Время работы встроенной сортировки: \" + \"--- {0} ms ---\".format(round((time.time() - start_time)*1000)))\n"
      ]
    },
    {
      "cell_type": "code",
      "execution_count": null,
      "id": "vital-implementation",
      "metadata": {
        "id": "vital-implementation",
        "outputId": "f8d3e052-4a5d-41c0-f356-f777eceff1d8",
        "colab": {
          "base_uri": "https://localhost:8080/"
        }
      },
      "outputs": [
        {
          "output_type": "stream",
          "name": "stdout",
          "text": [
            "\n",
            "Сгенерированная матрица:\n",
            "91 106 113 119 84 135 119 127 121 129 68 74 94 137 127 121 115 128 \n",
            "71 81 115 74 110 95 103 108 115 114 82 94 106 79 132 113 119 103 \n",
            "111 72 79 139 75 109 73 90 117 117 102 91 128 132 115 114 118 65 \n",
            "87 118 112 78 83 125 118 89 133 92 102 105 78 122 90 77 144 109 \n",
            "144 75 116 75 60 126 100 111 78 55 84 128 126 141 60 73 116 107 \n",
            "123 95 125 141 139 123 102 118 67 63 144 81 69 87 143 117 103 112 \n",
            "138 120 75 106 67 112 141 78 54 64 111 134 124 80 109 84 137 91 \n",
            "110 132 115 88 139 130 75 109 134 91 121 134 134 95 99 134 136 73 \n",
            "98 96 107 87 67 85 74 99 82 55 121 82 80 116 110 109 90 144 \n",
            "127 90 102 145 123 136 86 86 96 87 80 69 133 119 103 96 132 54 \n",
            "85 80 65 86 67 135 88 58 83 136 105 62 91 105 98 107 101 121 \n",
            "72 107 103 64 140 121 104 141 80 97 102 109 84 144 65 128 105 102 \n",
            "122 87 143 91 83 138 84 58 61 69 117 93 59 101 97 114 86 87 \n",
            "55 56 110 130 129 102 56 105 94 111 107 108 104 75 127 68 122 90 \n",
            "70 110 91 119 89 94 69 126 116 106 74 63 112 121 86 85 144 93 \n",
            "72 107 80 91 126 96 131 65 115 139 111 105 121 92 102 124 142 75 \n",
            "61 90 77 117 124 55 77 116 117 140 114 117 89 133 94 90 108 135 \n",
            "122 142 125 145 84 136 141 72 125 116 120 124 116 119 79 127 124 92 \n",
            "136 55 64 105 92 85 85 89 126 133 121 133 111 87 86 104 98 66 \n",
            "66 67 99 144 82 68 143 63 136 86 63 77 79 64 76 101 98 120 \n",
            "145 121 94 113 67 141 103 119 95 104 108 85 58 141 89 119 56 97 \n",
            "143 78 70 139 93 92 115 103 145 102 134 60 75 83 60 141 79 87 \n",
            "137 129 120 90 138 79 100 58 131 130 135 143 126 73 83 96 56 125 \n",
            "100 71 110 78 55 109 63 108 73 79 110 86 75 104 109 85 79 88 \n",
            "125 64 81 73 86 100 105 63 71 111 128 73 110 127 135 124 125 135 \n",
            "73 142 66 57 63 142 137 91 138 133 93 140 96 136 137 89 59 125 \n",
            "109 139 119 112 136 59 60 125 140 64 71 100 77 68 128 121 64 137 \n",
            "111 65 84 119 89 142 54 124 133 72 95 124 83 140 143 104 96 119 \n",
            "95 98 59 135 89 100 95 116 88 121 123 61 98 98 114 60 124 116 \n",
            "122 139 114 97 144 137 87 92 96 121 88 78 90 75 73 121 113 76 \n",
            "121 91 124 93 65 93 137 138 55 135 102 78 102 105 105 128 133 132 \n",
            "112 80 70 138 62 105 144 62 124 71 141 116 138 129 126 68 71 135 \n",
            "Время работы сортировки обменом/пузырьком: --- 3 ms ---\n",
            "Время работы встроенной сортировки: --- 0 ms ---\n"
          ]
        }
      ],
      "source": [
        "#метод для генерации матрицы\n",
        "def generateArray(m=32, n=18, min_limit=54, max_limit=145):\n",
        "    Matrix = [[random.randint(min_limit, max_limit) for j in range(n)] for i in range(m)]\n",
        "    for i in range(m):\n",
        "        for j in range(n):\n",
        "            print(Matrix[i][j], end = ' ')\n",
        "        print()\n",
        "    return Matrix\n",
        "\n",
        "#метод для сортировки обменом/пузырьком\n",
        "def exchangeSort(arr):\n",
        "    a = arr.copy()\n",
        "    for p in range(len(a)):\n",
        "        for i in range(len(a[p])):\n",
        "            for j in range(len(a[p]) - i - 1):\n",
        "                if a[p][j] > a[p][j + 1]:\n",
        "                    a[p][j], a[p][j + 1] = a[p][j + 1], a[p][j]\n",
        "    return a\n",
        "\n",
        "s = input()\n",
        "s_list = s.split()\n",
        "print(\"Сгенерированная матрица:\")\n",
        "if len(s_list) == 1:\n",
        "    arrayExample = generateArray(int(s_list[0]))\n",
        "if len(s_list) == 2:\n",
        "    arrayExample = generateArray(int(s_list[0]), int(s_list[1]))\n",
        "if len(s_list) == 3:\n",
        "    arrayExample = generateArray(int(s_list[0]), int(s_list[1]), int(s_list[2]))\n",
        "if len(s_list) == 4:    \n",
        "    arrayExample = generateArray(int(s_list[0]), int(s_list[1]), int(s_list[2]), int(s_list[3]))\n",
        "if len(s_list) == 0:\n",
        "    arrayExample = generateArray()\n",
        "\n",
        "start_time = time.time()\n",
        "exchangeSort(arrayExample)\n",
        "print(\"Время работы сортировки обменом/пузырьком: \" + \"--- {0} ms ---\".format(round((time.time() - start_time)*1000)))\n",
        "\n",
        "arr = arrayExample.copy()\n",
        "start_time = time.time()\n",
        "arr.sort()\n",
        "print(\"Время работы встроенной сортировки: \" + \"--- {0} ms ---\".format(round((time.time() - start_time)*1000)))\n"
      ]
    },
    {
      "cell_type": "code",
      "execution_count": null,
      "id": "veterinary-glory",
      "metadata": {
        "id": "veterinary-glory",
        "outputId": "709790c4-247f-4e43-85d1-c4f795dff8ce",
        "colab": {
          "base_uri": "https://localhost:8080/"
        }
      },
      "outputs": [
        {
          "output_type": "stream",
          "name": "stdout",
          "text": [
            "18 16 4\n",
            "Сгенерированная матрица:\n",
            "53 98 117 54 60 86 22 123 103 100 124 141 117 104 98 127 \n",
            "27 143 39 104 76 47 46 48 125 65 135 65 104 103 71 88 \n",
            "109 126 23 44 143 45 21 17 13 72 134 45 83 114 15 96 \n",
            "20 60 42 34 90 45 111 133 28 15 23 115 28 114 107 81 \n",
            "51 86 121 46 122 87 97 118 118 51 126 46 13 40 141 6 \n",
            "136 138 72 94 117 79 109 29 69 62 84 135 67 104 54 35 \n",
            "95 49 143 58 37 11 129 9 65 104 93 14 6 108 93 65 \n",
            "122 111 66 85 133 19 80 56 139 102 87 121 30 127 24 91 \n",
            "29 145 54 75 59 53 54 79 95 144 80 95 65 35 21 41 \n",
            "76 96 13 53 50 81 34 113 70 71 32 106 61 114 143 32 \n",
            "48 145 62 32 60 77 29 63 100 18 67 113 108 90 10 33 \n",
            "81 44 47 16 85 97 89 123 52 109 138 92 96 30 89 129 \n",
            "119 103 73 43 17 52 10 20 97 73 18 80 44 19 36 102 \n",
            "81 11 125 98 120 12 39 10 35 76 87 98 53 7 18 113 \n",
            "112 27 140 13 142 63 72 113 65 113 92 127 108 112 83 17 \n",
            "85 54 59 28 140 78 137 118 6 111 69 63 110 133 128 88 \n",
            "52 140 23 52 68 75 98 130 10 33 17 103 132 68 112 124 \n",
            "19 79 112 104 104 46 84 80 11 119 39 46 93 22 44 66 \n",
            "Время работы сортировки Шелла: --- 1 ms ---\n",
            "Время работы встроенной сортировки: --- 0 ms ---\n"
          ]
        }
      ],
      "source": [
        "#метод для генерации матрицы\n",
        "def generateArray(m=32, n=18, min_limit=54, max_limit=145):\n",
        "    Matrix = [[random.randint(min_limit, max_limit) for j in range(n)] for i in range(m)]\n",
        "    for i in range(m):\n",
        "        for j in range(n):\n",
        "            print(Matrix[i][j], end = ' ')\n",
        "        print()\n",
        "    return Matrix\n",
        "\n",
        "#метод для сортировки Шелла\n",
        "def shellsSort(arr):\n",
        "    a = arr.copy()\n",
        "    for p in range(len(a)):\n",
        "        d = len(a) // 2\n",
        "        while d:\n",
        "            for i, el in enumerate(a[p]):\n",
        "                while i >= d and a[p][i - d] > el:\n",
        "                    a[p][i] = a[p][i - d]\n",
        "                    i -= d\n",
        "                a[p][i] = el\n",
        "            d = 1 if d == 2 else int(d * 5.0 / 11)\n",
        "    return a\n",
        "\n",
        "s = input()\n",
        "s_list = s.split()\n",
        "print(\"Сгенерированная матрица:\")\n",
        "if len(s_list) == 1:\n",
        "    arrayExample = generateArray(int(s_list[0]))\n",
        "if len(s_list) == 2:\n",
        "    arrayExample = generateArray(int(s_list[0]), int(s_list[1]))\n",
        "if len(s_list) == 3:\n",
        "    arrayExample = generateArray(int(s_list[0]), int(s_list[1]), int(s_list[2]))\n",
        "if len(s_list) == 4:    \n",
        "    arrayExample = generateArray(int(s_list[0]), int(s_list[1]), int(s_list[2]), int(s_list[3]))\n",
        "if len(s_list) == 0:\n",
        "    arrayExample = generateArray()\n",
        "\n",
        "start_time = time.time()\n",
        "shellsSort(arrayExample)\n",
        "print(\"Время работы сортировки Шелла: \" + \"--- {0} ms ---\".format(round((time.time() - start_time)*1000)))\n",
        "\n",
        "arr = arrayExample.copy()\n",
        "start_time = time.time()\n",
        "arr.sort()\n",
        "print(\"Время работы встроенной сортировки: \" + \"--- {0} ms ---\".format(round((time.time() - start_time)*1000)))\n"
      ]
    },
    {
      "cell_type": "code",
      "execution_count": null,
      "id": "correct-chaos",
      "metadata": {
        "id": "correct-chaos",
        "outputId": "bdf9a735-fb13-486a-bdff-bae7b64b62ef",
        "colab": {
          "base_uri": "https://localhost:8080/"
        }
      },
      "outputs": [
        {
          "output_type": "stream",
          "name": "stdout",
          "text": [
            "\n",
            "Сгенерированная матрица:\n",
            "115 121 89 119 142 80 118 88 59 106 131 74 120 108 111 113 110 87 \n",
            "69 140 58 143 119 67 125 87 79 102 121 97 121 81 135 65 80 114 \n",
            "145 72 96 85 56 89 90 56 96 96 143 60 115 93 62 127 74 101 \n",
            "102 99 63 77 94 136 116 129 127 81 102 95 133 105 95 78 135 124 \n",
            "88 90 124 138 65 65 86 77 97 91 119 54 67 97 105 113 105 139 \n",
            "78 72 64 75 137 100 55 61 84 71 114 134 103 108 72 118 103 66 \n",
            "115 143 102 75 121 110 140 94 115 67 58 138 76 76 56 73 65 61 \n",
            "58 88 127 119 81 124 112 118 71 104 127 121 135 112 112 72 105 134 \n",
            "102 112 118 97 66 55 103 109 122 72 71 122 84 113 139 92 105 94 \n",
            "131 111 83 99 56 117 143 83 82 118 117 133 77 87 109 137 95 135 \n",
            "94 138 110 79 83 125 131 71 118 120 71 85 132 87 90 136 96 92 \n",
            "86 136 120 74 59 123 75 70 84 112 90 100 58 103 66 134 145 138 \n",
            "103 130 140 102 127 128 113 134 74 85 143 87 66 95 60 120 62 70 \n",
            "92 144 65 69 71 90 63 62 112 138 126 143 91 102 140 104 77 88 \n",
            "79 113 114 124 60 60 91 145 102 129 66 101 89 102 80 97 129 88 \n",
            "127 60 65 64 76 143 112 98 121 92 72 66 108 142 85 123 63 80 \n",
            "70 119 118 90 55 54 111 60 59 102 55 116 139 89 126 102 101 99 \n",
            "129 88 111 84 90 65 119 108 61 85 55 112 130 141 85 93 130 72 \n",
            "66 81 79 86 106 82 130 67 86 116 111 100 78 106 59 76 60 97 \n",
            "101 56 73 65 54 64 145 80 77 119 138 95 82 58 97 54 115 144 \n",
            "129 106 138 100 91 104 73 141 76 116 98 142 84 122 145 64 113 97 \n",
            "69 99 122 64 112 54 140 89 138 131 110 56 95 57 101 116 101 100 \n",
            "57 83 114 142 136 99 129 101 63 122 79 57 79 143 74 115 70 137 \n",
            "116 67 141 135 132 85 133 80 111 89 55 98 90 82 106 103 73 60 \n",
            "145 72 65 65 89 82 121 68 108 133 142 66 130 61 80 133 83 96 \n",
            "143 135 61 129 118 128 120 63 135 132 99 134 138 81 101 54 73 97 \n",
            "56 145 81 64 98 87 98 55 57 143 99 116 135 54 121 140 112 109 \n",
            "65 86 94 135 130 59 69 121 69 85 119 82 139 122 54 68 106 74 \n",
            "57 91 110 93 114 93 121 69 122 63 102 143 128 54 70 132 71 117 \n",
            "130 71 122 94 85 145 121 137 93 56 89 63 95 74 117 78 129 90 \n",
            "60 118 88 108 93 77 77 132 130 101 139 88 143 102 57 125 138 116 \n",
            "112 134 116 120 106 100 68 81 127 95 109 91 84 145 117 105 72 111 \n",
            "Время работы быстрой сортировки: --- 1 ms ---\n",
            "Время работы встроенной сортировки: --- 0 ms ---\n"
          ]
        }
      ],
      "source": [
        "#метод для генерации матрицы\n",
        "def generateArray(m=32, n=18, min_limit=54, max_limit=145):\n",
        "    Matrix = [[random.randint(min_limit, max_limit) for j in range(n)] for i in range(m)]\n",
        "    for i in range(m):\n",
        "        for j in range(n):\n",
        "            print(Matrix[i][j], end = ' ')\n",
        "        print()\n",
        "    return Matrix\n",
        "\n",
        "#метод для быстрой сортировки\n",
        "def quickSort(arr):\n",
        "    b = arr.copy()\n",
        "    for i in range(len(b)):\n",
        "        forQuickSort(0, len(b[i]) - 1, b, i)\n",
        "    return b\n",
        "\n",
        "#вспомогательный метод для быстрой сортировки\n",
        "def forQuickSort(numFirst, numLast, array, line):\n",
        "    first = int(numFirst)\n",
        "    last = int(numLast)\n",
        "    middle = int((first + last) / 2)\n",
        "\n",
        "    while (first < last):\n",
        "\n",
        "        while (array[line][first] < array[line][middle]):\n",
        "            first += 1\n",
        "        while (array[line][last] > array[line][middle]):\n",
        "            last -= 1\n",
        "        if (first <= last):\n",
        "            array[line][first], array[line][last] = array[line][last], array[line][first]\n",
        "            first += 1\n",
        "            last -= 1\n",
        "\n",
        "    if (numFirst < last):\n",
        "        forQuickSort(numFirst, last, array, line)\n",
        "    if (first < numLast):\n",
        "        forQuickSort(first, numLast, array, line)\n",
        "\n",
        "s = input()\n",
        "s_list = s.split()\n",
        "print(\"Сгенерированная матрица:\")\n",
        "if len(s_list) == 1:\n",
        "    arrayExample = generateArray(int(s_list[0]))\n",
        "if len(s_list) == 2:\n",
        "    arrayExample = generateArray(int(s_list[0]), int(s_list[1]))\n",
        "if len(s_list) == 3:\n",
        "    arrayExample = generateArray(int(s_list[0]), int(s_list[1]), int(s_list[2]))\n",
        "if len(s_list) == 4:    \n",
        "    arrayExample = generateArray(int(s_list[0]), int(s_list[1]), int(s_list[2]), int(s_list[3]))\n",
        "if len(s_list) == 0:\n",
        "    arrayExample = generateArray()\n",
        "\n",
        "start_time = time.time()\n",
        "quickSort(arrayExample)\n",
        "print(\"Время работы быстрой сортировки: \" + \"--- {0} ms ---\".format(round((time.time() - start_time)*1000)))\n",
        "\n",
        "arr = arrayExample.copy()\n",
        "start_time = time.time()\n",
        "arr.sort()\n",
        "print(\"Время работы встроенной сортировки: \" + \"--- {0} ms ---\".format(round((time.time() - start_time)*1000)))\n"
      ]
    },
    {
      "cell_type": "code",
      "execution_count": null,
      "id": "french-czech",
      "metadata": {
        "colab": {
          "base_uri": "https://localhost:8080/"
        },
        "id": "french-czech",
        "outputId": "7acdf007-5381-4325-995d-01a0ac12a76a"
      },
      "outputs": [
        {
          "output_type": "stream",
          "name": "stdout",
          "text": [
            "\n",
            "Сгенерированная матрица:\n",
            "110 105 132 141 111 103 88 114 107 142 68 100 121 63 100 82 137 58 \n",
            "82 90 136 88 86 73 128 89 116 116 74 67 107 132 125 87 127 139 \n",
            "66 77 143 143 124 68 75 137 115 76 126 103 88 64 119 70 120 75 \n",
            "81 72 121 75 106 70 136 74 60 88 101 84 113 107 111 145 115 134 \n",
            "88 62 115 63 139 111 131 116 55 58 138 88 130 87 91 70 141 76 \n",
            "123 141 117 62 71 70 78 84 64 91 119 103 136 126 59 136 97 109 \n",
            "58 131 110 70 137 62 98 126 134 110 104 69 91 98 131 65 138 71 \n",
            "141 115 142 71 124 96 93 80 124 132 90 143 110 100 76 92 138 80 \n",
            "64 107 142 126 90 135 120 93 112 83 111 117 78 87 82 116 109 120 \n",
            "64 142 116 106 125 114 74 144 57 75 65 81 131 77 143 138 109 80 \n",
            "129 56 133 68 128 139 74 145 77 105 144 140 141 63 110 125 133 68 \n",
            "86 58 82 87 97 61 122 61 116 90 70 116 114 74 60 121 103 129 \n",
            "80 115 82 145 143 142 76 101 64 129 128 139 60 121 68 62 132 71 \n",
            "132 108 78 139 135 58 77 125 104 116 94 134 74 126 142 56 138 76 \n",
            "90 105 129 110 91 77 136 126 82 100 84 134 142 70 89 87 108 139 \n",
            "65 76 59 97 74 140 121 106 145 62 78 55 101 98 101 72 66 90 \n",
            "126 112 105 68 67 120 67 126 129 136 56 103 79 56 133 119 140 69 \n",
            "113 77 68 141 127 86 116 67 79 66 76 142 134 142 118 131 127 125 \n",
            "105 95 100 133 54 124 106 68 64 72 64 64 74 132 101 110 111 75 \n",
            "92 85 76 137 66 59 115 58 97 101 139 107 109 67 75 79 55 141 \n",
            "85 58 126 144 78 77 69 63 102 118 111 144 127 111 105 86 84 122 \n",
            "104 109 99 123 126 141 92 81 115 67 111 106 58 96 106 118 87 63 \n",
            "119 126 82 92 106 103 82 90 63 57 67 88 137 110 114 103 77 144 \n",
            "141 96 67 137 122 83 132 77 84 57 145 70 132 72 56 67 96 115 \n",
            "105 55 57 58 129 67 143 118 145 140 145 138 125 113 118 127 56 139 \n",
            "87 138 144 127 90 98 78 59 74 140 108 124 121 87 103 122 113 58 \n",
            "63 137 142 115 132 126 130 55 84 86 118 56 93 106 108 106 80 145 \n",
            "144 96 103 77 82 128 80 104 92 93 105 132 125 58 87 105 102 87 \n",
            "105 131 120 130 134 94 89 120 82 117 131 97 130 89 78 67 137 141 \n",
            "118 132 81 87 116 83 131 109 83 85 137 81 84 114 81 111 58 131 \n",
            "141 124 89 59 113 124 125 82 117 61 121 134 90 88 72 90 104 64 \n",
            "96 59 120 63 114 124 97 56 74 89 108 75 144 120 70 123 102 79 \n",
            "Время работы турнирной сортировки: --- 36 ms ---\n",
            "Время работы встроенной сортировки: --- 0 ms ---\n"
          ]
        }
      ],
      "source": [
        "#метод для генерации матрицы\n",
        "def generateArray(m=32, n=18, min_limit=54, max_limit=145):\n",
        "    Matrix = [[random.randint(min_limit, max_limit) for j in range(n)] for i in range(m)]\n",
        "    for i in range(m):\n",
        "        for j in range(n):\n",
        "            print(Matrix[i][j], end = ' ')\n",
        "        print()\n",
        "    return Matrix\n",
        "\n",
        "#метод для турнирной сортировки\n",
        "def tournamentSort(arr):\n",
        "    a = arr.copy()\n",
        "    for i in range(len(a)):\n",
        "        forTournamentSort(a[i])\n",
        "    return a\n",
        "\n",
        "#вспомогательный метод для турнирной сортировки\n",
        "def forTournamentSort(arr):\n",
        "    t = [None] * 2 * (len(arr) + len(arr) % 2)\n",
        "    index = len(t) - len(arr) - len(arr) % 2\n",
        "\n",
        "    for i, v in enumerate(arr):\n",
        "        t[index + i] = (i, v)\n",
        "\n",
        "    for j in range(len(arr)):\n",
        "        n = len(arr)\n",
        "        index = len(t) - len(arr) - len(arr) % 2\n",
        "        while index > -1:\n",
        "            n = (n + 1) // 2\n",
        "            for i in range(n):\n",
        "                i = max(index + i * 2, 1)\n",
        "                if t[i] != None and t[i + 1] != None:\n",
        "                    if t[i][1] < t[i + 1][1]:\n",
        "                        t[i // 2] = t[i]\n",
        "                    else:\n",
        "                        t[i // 2] = t[i + 1]\n",
        "                else:\n",
        "                    t[i // 2] = t[i] if t[i] != None else t[i + 1]\n",
        "            index -= n\n",
        "\n",
        "        index, x = t[0]\n",
        "        arr[j] = x\n",
        "        t[len(t) - len(arr) - len(arr) % 2 + index] = None\n",
        "\n",
        "s = input()\n",
        "s_list = s.split()\n",
        "print(\"Сгенерированная матрица:\")\n",
        "if len(s_list) == 1:\n",
        "    arrayExample = generateArray(int(s_list[0]))\n",
        "if len(s_list) == 2:\n",
        "    arrayExample = generateArray(int(s_list[0]), int(s_list[1]))\n",
        "if len(s_list) == 3:\n",
        "    arrayExample = generateArray(int(s_list[0]), int(s_list[1]), int(s_list[2]))\n",
        "if len(s_list) == 4:    \n",
        "    arrayExample = generateArray(int(s_list[0]), int(s_list[1]), int(s_list[2]), int(s_list[3]))\n",
        "if len(s_list) == 0:\n",
        "    arrayExample = generateArray()\n",
        "\n",
        "start_time = time.time()\n",
        "tournamentSort(arrayExample)\n",
        "print(\"Время работы турнирной сортировки: \" + \"--- {0} ms ---\".format(round((time.time() - start_time)*1000)))\n",
        "\n",
        "arr = arrayExample.copy()\n",
        "start_time = time.time()\n",
        "arr.sort()\n",
        "print(\"Время работы встроенной сортировки: \" + \"--- {0} ms ---\".format(round((time.time() - start_time)*1000)))\n"
      ]
    },
    {
      "cell_type": "code",
      "source": [
        "import random\n",
        "import time\n",
        "import copy\n",
        "import matplotlib.pyplot as plt\n",
        "from random import randint\n",
        "\n",
        "#метод для генерации матрицы\n",
        "def generateArray(m=32, n=18, min_limit=54, max_limit=145):\n",
        "    Matrix = [[random.randint(min_limit, max_limit) for j in range(n)] for i in range(m)]\n",
        "    for i in range(m):\n",
        "        for j in range(n):\n",
        "            print(Matrix[i][j], end = ' ')\n",
        "        print()\n",
        "    return Matrix\n",
        "\n",
        "#метод для турнирной сортировки\n",
        "def tournamentSort(arr,m,n):\n",
        "    a = arr.copy()\n",
        "    for i in range(len(a)):\n",
        "        forTournamentSort(a[i])\n",
        "    #for i in range(int(m)):\n",
        "    #    for j in range(int(n)):\n",
        "    #        print(a[i][j], end = ' ')\n",
        "    #    print()\n",
        "    return a\n",
        "\n",
        "#вспомогательный метод для турнирной сортировки\n",
        "def forTournamentSort(arr):\n",
        "    t = [None] * 2 * (len(arr) + len(arr) % 2)\n",
        "    index = len(t) - len(arr) - len(arr) % 2\n",
        "\n",
        "    for i, v in enumerate(arr):\n",
        "        t[index + i] = (i, v)\n",
        "\n",
        "    for j in range(len(arr)):\n",
        "        n = len(arr)\n",
        "        index = len(t) - len(arr) - len(arr) % 2\n",
        "        while index > -1:\n",
        "            n = (n + 1) // 2\n",
        "            for i in range(n):\n",
        "                i = max(index + i * 2, 1)\n",
        "                if t[i] != None and t[i + 1] != None:\n",
        "                    if t[i][1] < t[i + 1][1]:\n",
        "                        t[i // 2] = t[i]\n",
        "                    else:\n",
        "                        t[i // 2] = t[i + 1]\n",
        "                else:\n",
        "                    t[i // 2] = t[i] if t[i] != None else t[i + 1]\n",
        "            index -= n\n",
        "\n",
        "        index, x = t[0]\n",
        "        arr[j] = x\n",
        "        t[len(t) - len(arr) - len(arr) % 2 + index] = None\n",
        "\n",
        "s = input()\n",
        "s_list = s.split()\n",
        "print(\"Сгенерированная матрица:\")\n",
        "if len(s_list) == 1:\n",
        "    arrayExample = generateArray(int(s_list[0]))\n",
        "if len(s_list) == 2:\n",
        "    arrayExample = generateArray(int(s_list[0]), int(s_list[1]))\n",
        "if len(s_list) == 3:\n",
        "    arrayExample = generateArray(int(s_list[0]), int(s_list[1]), int(s_list[2]))\n",
        "if len(s_list) == 4:    \n",
        "    arrayExample = generateArray(int(s_list[0]), int(s_list[1]), int(s_list[2]), int(s_list[3]))\n",
        "if len(s_list) == 0:\n",
        "    arrayExample = generateArray()\n",
        "\n",
        "m = [51,800,1620,2970,4120]\n",
        "n = [75,112,201,278,416]\n",
        "s = [m[0]*n[0],m[1]*n[1],m[2]*n[2],m[3]*n[3],m[4]*n[4]]\n",
        "t = [0,0,0,0,0]\n",
        "for i in range(5):\n",
        "    start_time = time.time()\n",
        "    tournamentSort(arrayExample,m[i],n[i])\n",
        "    t[i] = (time.time() - start_time)*1000\n",
        "plt.plot(s, t, 'o-r', alpha=0.7, label=\"first\", lw=5, mec='b', mew=2, ms=10)\n",
        "plt.show()\n"
      ],
      "metadata": {
        "colab": {
          "base_uri": "https://localhost:8080/",
          "height": 400
        },
        "id": "x6weTn-vX1lH",
        "outputId": "19998201-d5c3-4a34-e319-f6c64b336818"
      },
      "id": "x6weTn-vX1lH",
      "execution_count": 3,
      "outputs": [
        {
          "output_type": "stream",
          "name": "stdout",
          "text": [
            "5 6\n",
            "Сгенерированная матрица:\n",
            "113 131 57 94 131 67 \n",
            "135 71 117 95 62 124 \n",
            "92 136 54 122 87 136 \n",
            "76 145 145 118 100 114 \n",
            "135 97 70 106 113 126 \n"
          ]
        },
        {
          "output_type": "display_data",
          "data": {
            "text/plain": [
              "<Figure size 432x288 with 1 Axes>"
            ],
            "image/png": "[encoded data removed]"
          },
          "metadata": {
            "needs_background": "light"
          }
        }
      ]
    },
    {
      "cell_type": "markdown",
      "id": "rental-jerusalem",
      "metadata": {
        "id": "rental-jerusalem"
      },
      "source": [
        "### Вывод\n"
      ]
    },
    {
      "cell_type": "markdown",
      "id": "9d108a0a",
      "metadata": {
        "id": "9d108a0a"
      },
      "source": [
        "В ходе выполнения лабораторной работы мы написали генератор случайных многомерных матриц, а также реализовали методы сортировки строк числовой матрицы."
      ]
    }
  ],
  "metadata": {
    "kernelspec": {
      "display_name": "Python 3 (ipykernel)",
      "language": "python",
      "name": "python3"
    },
    "language_info": {
      "codemirror_mode": {
        "name": "ipython",
        "version": 3
      },
      "file_extension": ".py",
      "mimetype": "text/x-python",
      "name": "python",
      "nbconvert_exporter": "python",
      "pygments_lexer": "ipython3",
      "version": "3.10.2"
    },
    "colab": {
      "provenance": []
    }
  },
  "nbformat": 4,
  "nbformat_minor": 5
}